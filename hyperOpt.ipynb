{
 "cells": [
  {
   "cell_type": "code",
   "execution_count": 1,
   "metadata": {},
   "outputs": [],
   "source": [
    "import tensorflow as tf\n",
    "from tensorboard.plugins.hparams import api as hp\n",
    "from tensorflow.keras.models import Sequential\n",
    "from tensorflow.keras.layers import Conv2D, MaxPooling2D, Flatten, Dense, Dropout\n",
    "import numpy as np"
   ]
  },
  {
   "cell_type": "code",
   "execution_count": 32,
   "metadata": {},
   "outputs": [],
   "source": [
    "# Load dataset\n",
    "x_train = np.load('E:\\whistle_identification\\TrainAndVal_vanilla\\\\trainImages_vanilla_48kHz.npy',allow_pickle=True)\n",
    "y_train = np.load('E:\\whistle_identification\\TrainAndVal_vanilla\\\\trainLabels_vanilla_48kHz.npy',allow_pickle=True)\n",
    "x_val = np.load('E:\\whistle_identification\\TrainAndVal_vanilla\\\\valImages_vanilla_48kHz.npy',allow_pickle=True)\n",
    "y_val = np.load('E:\\whistle_identification\\TrainAndVal_vanilla\\\\valLabels_vanilla_48kHz.npy',allow_pickle=True)\n",
    "x_test = np.load('E:\\whistle_identification\\DOLPHI\\\\total_testX.npy',allow_pickle=True)\n",
    "y_test = np.load('E:\\whistle_identification\\DOLPHI\\\\total_testY.npy',allow_pickle=True)\n",
    "\n",
    "\n",
    "HP_NODES_CONV = hp.HParam('num_nodes_conv', hp.Discrete([16, 32, 64]))\n",
    "HP_NODES_DENSE = hp.HParam('num_nodes_dense', hp.Discrete([8, 64, 512]))\n",
    "HP_BATCH = hp.HParam('batch_size', hp.Discrete([8, 16, 32]))\n",
    "HP_LRATE = hp.HParam('learning_rate', hp.Discrete([1e-5, 1e-4, 1e-3, 1e-2]))\n",
    "HP_EPOCHS = hp.HParam('epochs', hp.Discrete([1, 5, 10]))\n",
    "\n",
    "METRIC_ACCURACY = 'accuracy'\n",
    "\n",
    "\n"
   ]
  },
  {
   "cell_type": "code",
   "execution_count": 1,
   "metadata": {},
   "outputs": [],
   "source": [
    "%load_ext tensorboard"
   ]
  },
  {
   "cell_type": "code",
   "execution_count": 33,
   "metadata": {},
   "outputs": [],
   "source": [
    "\n",
    "with tf.summary.create_file_writer('logs4\\hparam_tuning').as_default():\n",
    "  hp.hparams_config(\n",
    "    hparams=[HP_NODES_CONV, HP_NODES_DENSE, HP_BATCH, HP_LRATE, HP_EPOCHS],\n",
    "    metrics=[hp.Metric(METRIC_ACCURACY, display_name='Accuracy')]\n",
    "  )\n"
   ]
  },
  {
   "cell_type": "code",
   "execution_count": 34,
   "metadata": {},
   "outputs": [],
   "source": [
    "\n",
    "def train_test_model(hparams):\n",
    "  model = Sequential()\n",
    "  model.add(Conv2D(hparams[HP_NODES_CONV], (7, 7), strides=(2, 2), activation='relu', input_shape=(224,223,3)))\n",
    "  model.add(MaxPooling2D(pool_size=(2, 2)))\n",
    "  model.add(Dropout(0.2))\n",
    "\n",
    "  model.add(Conv2D(hparams[HP_NODES_CONV]*2, (5, 5), strides=(2, 2), activation='relu')) \n",
    "  model.add(MaxPooling2D(pool_size=(2, 2)))\n",
    "  model.add(Dropout(0.2))\n",
    "         \n",
    "  model.add(Flatten())\n",
    "\n",
    "  model.add(Dense(hparams[HP_NODES_DENSE], activation='relu'))\n",
    "  model.add(Dense(hparams[HP_NODES_DENSE]/2, activation='relu'))\n",
    "  \n",
    "  # Output layer\n",
    "  model.add(Dense(1, activation='sigmoid'))\n",
    "\n",
    "  opt = tf.keras.optimizers.Adam(learning_rate=hparams[HP_LRATE])\n",
    "  model.compile(optimizer=opt,loss='binary_crossentropy',metrics=['accuracy'])\n",
    "  model.fit(x_train, y_train, epochs=hparams[HP_EPOCHS], batch_size = hparams[HP_BATCH], validation_data=(x_val,y_val))\n",
    "  _, accuracy = model.evaluate(x_test, y_test)\n",
    "  return accuracy"
   ]
  },
  {
   "cell_type": "code",
   "execution_count": 35,
   "metadata": {},
   "outputs": [],
   "source": [
    "def run(run_dir, hparams):\n",
    "  with tf.summary.create_file_writer(run_dir).as_default():\n",
    "    hp.hparams(hparams)  # record the values used in this trial\n",
    "    accuracy = train_test_model(hparams)\n",
    "    tf.summary.scalar(METRIC_ACCURACY, accuracy, step=1)\n"
   ]
  },
  {
   "cell_type": "code",
   "execution_count": null,
   "metadata": {},
   "outputs": [],
   "source": [
    "session_num = 0\n",
    "for epochs in HP_EPOCHS.domain.values:\n",
    "   for num_nodes_dense in HP_NODES_DENSE.domain.values:\n",
    "      for num_nodes_conv in HP_NODES_CONV.domain.values:\n",
    "        for learning_rate in HP_LRATE.domain.values:\n",
    "          for batch_size in HP_BATCH.domain.values:\n",
    "            hparams = {\n",
    "              HP_NODES_CONV: num_nodes_conv,\n",
    "              HP_NODES_DENSE: num_nodes_dense,\n",
    "              HP_BATCH: batch_size,\n",
    "              HP_LRATE: learning_rate,\n",
    "              HP_EPOCHS: epochs\n",
    "              }\n",
    "            run_name = \"run-%d\" % session_num\n",
    "            print('--- Starting trial: %s' % run_name)\n",
    "            print({h.name: hparams[h] for h in hparams})\n",
    "            run('logs4/hparam_tuning/' + run_name, hparams)\n",
    "            session_num += 1"
   ]
  }
 ],
 "metadata": {
  "kernelspec": {
   "display_name": "dolphin-env",
   "language": "python",
   "name": "python3"
  },
  "language_info": {
   "codemirror_mode": {
    "name": "ipython",
    "version": 3
   },
   "file_extension": ".py",
   "mimetype": "text/x-python",
   "name": "python",
   "nbconvert_exporter": "python",
   "pygments_lexer": "ipython3",
   "version": "3.8.18"
  }
 },
 "nbformat": 4,
 "nbformat_minor": 2
}
