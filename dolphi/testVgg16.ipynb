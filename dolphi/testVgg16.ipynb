{
 "cells": [
  {
   "cell_type": "code",
   "execution_count": 1,
   "metadata": {},
   "outputs": [],
   "source": [
    "# Import Libraries\n",
    "\n",
    "from tensorflow.keras.models import load_model\n",
    "from sklearn.metrics import confusion_matrix, ConfusionMatrixDisplay, classification_report\n",
    "import numpy as np\n",
    "import matplotlib.pyplot as plt"
   ]
  },
  {
   "cell_type": "code",
   "execution_count": null,
   "metadata": {},
   "outputs": [],
   "source": [
    "# Model and test data loading\n",
    "\n",
    "modello = load_model('E:\\whistle_identification\\DOLPHI\\\\vgg16_trained_model_2_48kHz.keras')\n",
    "\n",
    "test_X = np.load('E:\\whistle_identification\\DOLPHI\\\\total_testX.npy', allow_pickle=True)\n",
    "test_y = np.load('E:\\whistle_identification\\DOLPHI\\\\total_testY.npy', allow_pickle=True)\n",
    "test_y = test_y.astype(np.int32)\n"
   ]
  },
  {
   "cell_type": "code",
   "execution_count": 3,
   "metadata": {},
   "outputs": [
    {
     "name": "stdout",
     "output_type": "stream",
     "text": [
      "35/35 [==============================] - 336s 9s/step\n"
     ]
    }
   ],
   "source": [
    "# Prediction...\n",
    "\"\"\" test_X = np.concatenate((test_X1,test_X2), axis = 0)\n",
    "test_y = np.concatenate((test_y1,test_y2), axis = 0) \"\"\"\n",
    "y_pred = modello.predict(test_X)\n",
    "\n",
    "y_pred1 = []\n",
    "\n",
    "\n",
    "for i in y_pred:\n",
    "    if i[0]>= 0.5:\n",
    "        y_pred1.append(1)\n",
    "    else:\n",
    "        y_pred1.append(0)\n",
    "\n",
    "y_pred1 = np.array(y_pred1)"
   ]
  },
  {
   "cell_type": "code",
   "execution_count": 5,
   "metadata": {},
   "outputs": [
    {
     "data": {
      "image/png": "[encoded data removed]",
      "text/plain": [
       "<Figure size 640x480 with 2 Axes>"
      ]
     },
     "metadata": {},
     "output_type": "display_data"
    }
   ],
   "source": [
    "# Confusion Matrix \n",
    "\n",
    "\n",
    "cm = confusion_matrix(test_y, y_pred1, labels=[0,1])\n",
    "disp = ConfusionMatrixDisplay(confusion_matrix=cm, display_labels=[0,1])\n",
    "disp.plot(cmap=plt.cm.Blues)\n",
    "plt.show()\n",
    "\n"
   ]
  },
  {
   "cell_type": "code",
   "execution_count": 6,
   "metadata": {},
   "outputs": [
    {
     "name": "stdout",
     "output_type": "stream",
     "text": [
      "              precision    recall  f1-score   support\n",
      "\n",
      "           0       0.90      0.99      0.94       896\n",
      "           1       0.91      0.49      0.64       198\n",
      "\n",
      "    accuracy                           0.90      1094\n",
      "   macro avg       0.90      0.74      0.79      1094\n",
      "weighted avg       0.90      0.90      0.89      1094\n",
      "\n"
     ]
    }
   ],
   "source": [
    "# Metrics calculation\n",
    "\n",
    "print(classification_report(test_y,y_pred1)) # accuracy = 0.898"
   ]
  }
 ],
 "metadata": {
  "kernelspec": {
   "display_name": "dolphin-env",
   "language": "python",
   "name": "python3"
  },
  "language_info": {
   "codemirror_mode": {
    "name": "ipython",
    "version": 3
   },
   "file_extension": ".py",
   "mimetype": "text/x-python",
   "name": "python",
   "nbconvert_exporter": "python",
   "pygments_lexer": "ipython3",
   "version": "3.8.18"
  }
 },
 "nbformat": 4,
 "nbformat_minor": 2
}
